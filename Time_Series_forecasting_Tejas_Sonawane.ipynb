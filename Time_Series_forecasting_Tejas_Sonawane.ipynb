{
 "cells": [
  {
   "cell_type": "markdown",
   "id": "66dfd0ff-bdf6-4cef-8e2a-d2bf94fa0fb5",
   "metadata": {},
   "source": [
    "Problem Statement: \n",
    "\n",
    "Forecast future trends or values based on historical data. You can use time series models like ARIMA or Prophet and evaluate the model using metrics like RMSE or MAE.\n",
    "(For this problem statement I have used yahoo_stock.csv dataset from kaggle to do time series forecasting.)"
   ]
  },
  {
   "cell_type": "markdown",
   "id": "aea58a31-3988-4c8c-a5e7-9b5adaf4baff",
   "metadata": {},
   "source": [
    "1. Data Preprocessing"
   ]
  },
  {
   "cell_type": "code",
   "execution_count": 1,
   "id": "78039f95-5299-4a77-97c9-86d600349343",
   "metadata": {},
   "outputs": [
    {
     "data": {
      "text/html": [
       "<div>\n",
       "<style scoped>\n",
       "    .dataframe tbody tr th:only-of-type {\n",
       "        vertical-align: middle;\n",
       "    }\n",
       "\n",
       "    .dataframe tbody tr th {\n",
       "        vertical-align: top;\n",
       "    }\n",
       "\n",
       "    .dataframe thead th {\n",
       "        text-align: right;\n",
       "    }\n",
       "</style>\n",
       "<table border=\"1\" class=\"dataframe\">\n",
       "  <thead>\n",
       "    <tr style=\"text-align: right;\">\n",
       "      <th></th>\n",
       "      <th>Date</th>\n",
       "      <th>High</th>\n",
       "      <th>Low</th>\n",
       "      <th>Open</th>\n",
       "      <th>Close</th>\n",
       "      <th>Volume</th>\n",
       "      <th>Adj Close</th>\n",
       "    </tr>\n",
       "  </thead>\n",
       "  <tbody>\n",
       "    <tr>\n",
       "      <th>0</th>\n",
       "      <td>23-11-2015</td>\n",
       "      <td>2095.610107</td>\n",
       "      <td>2081.389893</td>\n",
       "      <td>2089.409912</td>\n",
       "      <td>2086.590088</td>\n",
       "      <td>3587980000</td>\n",
       "      <td>2086.590088</td>\n",
       "    </tr>\n",
       "    <tr>\n",
       "      <th>1</th>\n",
       "      <td>24-11-2015</td>\n",
       "      <td>2094.120117</td>\n",
       "      <td>2070.290039</td>\n",
       "      <td>2084.419922</td>\n",
       "      <td>2089.139893</td>\n",
       "      <td>3884930000</td>\n",
       "      <td>2089.139893</td>\n",
       "    </tr>\n",
       "    <tr>\n",
       "      <th>2</th>\n",
       "      <td>25-11-2015</td>\n",
       "      <td>2093.000000</td>\n",
       "      <td>2086.300049</td>\n",
       "      <td>2089.300049</td>\n",
       "      <td>2088.870117</td>\n",
       "      <td>2852940000</td>\n",
       "      <td>2088.870117</td>\n",
       "    </tr>\n",
       "    <tr>\n",
       "      <th>3</th>\n",
       "      <td>26-11-2015</td>\n",
       "      <td>2093.000000</td>\n",
       "      <td>2086.300049</td>\n",
       "      <td>2089.300049</td>\n",
       "      <td>2088.870117</td>\n",
       "      <td>2852940000</td>\n",
       "      <td>2088.870117</td>\n",
       "    </tr>\n",
       "    <tr>\n",
       "      <th>4</th>\n",
       "      <td>27-11-2015</td>\n",
       "      <td>2093.290039</td>\n",
       "      <td>2084.129883</td>\n",
       "      <td>2088.820068</td>\n",
       "      <td>2090.110107</td>\n",
       "      <td>1466840000</td>\n",
       "      <td>2090.110107</td>\n",
       "    </tr>\n",
       "    <tr>\n",
       "      <th>5</th>\n",
       "      <td>28-11-2015</td>\n",
       "      <td>2093.290039</td>\n",
       "      <td>2084.129883</td>\n",
       "      <td>2088.820068</td>\n",
       "      <td>2090.110107</td>\n",
       "      <td>1466840000</td>\n",
       "      <td>2090.110107</td>\n",
       "    </tr>\n",
       "    <tr>\n",
       "      <th>6</th>\n",
       "      <td>29-11-2015</td>\n",
       "      <td>2093.290039</td>\n",
       "      <td>2084.129883</td>\n",
       "      <td>2088.820068</td>\n",
       "      <td>2090.110107</td>\n",
       "      <td>1466840000</td>\n",
       "      <td>2090.110107</td>\n",
       "    </tr>\n",
       "    <tr>\n",
       "      <th>7</th>\n",
       "      <td>30-11-2015</td>\n",
       "      <td>2093.810059</td>\n",
       "      <td>2080.409912</td>\n",
       "      <td>2090.949951</td>\n",
       "      <td>2080.409912</td>\n",
       "      <td>4275030000</td>\n",
       "      <td>2080.409912</td>\n",
       "    </tr>\n",
       "    <tr>\n",
       "      <th>8</th>\n",
       "      <td>01-12-2015</td>\n",
       "      <td>2103.370117</td>\n",
       "      <td>2082.929932</td>\n",
       "      <td>2082.929932</td>\n",
       "      <td>2102.629883</td>\n",
       "      <td>3712120000</td>\n",
       "      <td>2102.629883</td>\n",
       "    </tr>\n",
       "    <tr>\n",
       "      <th>9</th>\n",
       "      <td>02-12-2015</td>\n",
       "      <td>2104.270020</td>\n",
       "      <td>2077.110107</td>\n",
       "      <td>2101.709961</td>\n",
       "      <td>2079.510010</td>\n",
       "      <td>3950640000</td>\n",
       "      <td>2079.510010</td>\n",
       "    </tr>\n",
       "  </tbody>\n",
       "</table>\n",
       "</div>"
      ],
      "text/plain": [
       "         Date         High          Low         Open        Close      Volume  \\\n",
       "0  23-11-2015  2095.610107  2081.389893  2089.409912  2086.590088  3587980000   \n",
       "1  24-11-2015  2094.120117  2070.290039  2084.419922  2089.139893  3884930000   \n",
       "2  25-11-2015  2093.000000  2086.300049  2089.300049  2088.870117  2852940000   \n",
       "3  26-11-2015  2093.000000  2086.300049  2089.300049  2088.870117  2852940000   \n",
       "4  27-11-2015  2093.290039  2084.129883  2088.820068  2090.110107  1466840000   \n",
       "5  28-11-2015  2093.290039  2084.129883  2088.820068  2090.110107  1466840000   \n",
       "6  29-11-2015  2093.290039  2084.129883  2088.820068  2090.110107  1466840000   \n",
       "7  30-11-2015  2093.810059  2080.409912  2090.949951  2080.409912  4275030000   \n",
       "8  01-12-2015  2103.370117  2082.929932  2082.929932  2102.629883  3712120000   \n",
       "9  02-12-2015  2104.270020  2077.110107  2101.709961  2079.510010  3950640000   \n",
       "\n",
       "     Adj Close  \n",
       "0  2086.590088  \n",
       "1  2089.139893  \n",
       "2  2088.870117  \n",
       "3  2088.870117  \n",
       "4  2090.110107  \n",
       "5  2090.110107  \n",
       "6  2090.110107  \n",
       "7  2080.409912  \n",
       "8  2102.629883  \n",
       "9  2079.510010  "
      ]
     },
     "execution_count": 1,
     "metadata": {},
     "output_type": "execute_result"
    }
   ],
   "source": [
    "# Importing necessary libraries\n",
    "import pandas as pd\n",
    "import numpy as np\n",
    "import matplotlib.pyplot as plt\n",
    "\n",
    "# Load the dataset\n",
    "yahoo_stock_data = pd.read_csv(\"C:\\\\Users\\\\King\\\\Desktop\\\\Cipherbyte Internship\\\\yahoo_stock.csv\")\n",
    "yahoo_stock_data.head(10)"
   ]
  },
  {
   "cell_type": "code",
   "execution_count": 2,
   "id": "ee58bf02-9b9d-44b2-937d-607142b22da4",
   "metadata": {},
   "outputs": [
    {
     "name": "stderr",
     "output_type": "stream",
     "text": [
      "C:\\Users\\King\\AppData\\Local\\Temp\\ipykernel_2816\\3743804129.py:2: FutureWarning: DataFrame.fillna with 'method' is deprecated and will raise in a future version. Use obj.ffill() or obj.bfill() instead.\n",
      "  yahoo_stock_data.fillna(method='ffill', inplace=True)\n",
      "C:\\Users\\King\\AppData\\Local\\Temp\\ipykernel_2816\\3743804129.py:5: UserWarning: Parsing dates in %d-%m-%Y format when dayfirst=False (the default) was specified. Pass `dayfirst=True` or specify a format to silence this warning.\n",
      "  yahoo_stock_data['Date'] = pd.to_datetime(yahoo_stock_data['Date'])\n"
     ]
    }
   ],
   "source": [
    "# Check for missing values and handle them \n",
    "yahoo_stock_data.fillna(method='ffill', inplace=True)\n",
    "\n",
    "# Convert the 'Date' column to datetime format\n",
    "yahoo_stock_data['Date'] = pd.to_datetime(yahoo_stock_data['Date'])\n"
   ]
  },
  {
   "cell_type": "markdown",
   "id": "f0455a35-f37b-4459-ac2b-bd13f97d997a",
   "metadata": {},
   "source": [
    "2. Feature Engineering"
   ]
  },
  {
   "cell_type": "code",
   "execution_count": 3,
   "id": "d4e5aca8-906b-476f-b855-dfe17205d737",
   "metadata": {},
   "outputs": [
    {
     "data": {
      "text/html": [
       "<div>\n",
       "<style scoped>\n",
       "    .dataframe tbody tr th:only-of-type {\n",
       "        vertical-align: middle;\n",
       "    }\n",
       "\n",
       "    .dataframe tbody tr th {\n",
       "        vertical-align: top;\n",
       "    }\n",
       "\n",
       "    .dataframe thead th {\n",
       "        text-align: right;\n",
       "    }\n",
       "</style>\n",
       "<table border=\"1\" class=\"dataframe\">\n",
       "  <thead>\n",
       "    <tr style=\"text-align: right;\">\n",
       "      <th></th>\n",
       "      <th>Date</th>\n",
       "      <th>High</th>\n",
       "      <th>Low</th>\n",
       "      <th>Open</th>\n",
       "      <th>Close</th>\n",
       "      <th>Volume</th>\n",
       "      <th>Adj Close</th>\n",
       "      <th>DayOfWeek</th>\n",
       "      <th>Month</th>\n",
       "    </tr>\n",
       "  </thead>\n",
       "  <tbody>\n",
       "    <tr>\n",
       "      <th>0</th>\n",
       "      <td>2015-11-23</td>\n",
       "      <td>2095.610107</td>\n",
       "      <td>2081.389893</td>\n",
       "      <td>2089.409912</td>\n",
       "      <td>2086.590088</td>\n",
       "      <td>3587980000</td>\n",
       "      <td>2086.590088</td>\n",
       "      <td>0</td>\n",
       "      <td>11</td>\n",
       "    </tr>\n",
       "    <tr>\n",
       "      <th>1</th>\n",
       "      <td>2015-11-24</td>\n",
       "      <td>2094.120117</td>\n",
       "      <td>2070.290039</td>\n",
       "      <td>2084.419922</td>\n",
       "      <td>2089.139893</td>\n",
       "      <td>3884930000</td>\n",
       "      <td>2089.139893</td>\n",
       "      <td>1</td>\n",
       "      <td>11</td>\n",
       "    </tr>\n",
       "    <tr>\n",
       "      <th>2</th>\n",
       "      <td>2015-11-25</td>\n",
       "      <td>2093.000000</td>\n",
       "      <td>2086.300049</td>\n",
       "      <td>2089.300049</td>\n",
       "      <td>2088.870117</td>\n",
       "      <td>2852940000</td>\n",
       "      <td>2088.870117</td>\n",
       "      <td>2</td>\n",
       "      <td>11</td>\n",
       "    </tr>\n",
       "    <tr>\n",
       "      <th>3</th>\n",
       "      <td>2015-11-26</td>\n",
       "      <td>2093.000000</td>\n",
       "      <td>2086.300049</td>\n",
       "      <td>2089.300049</td>\n",
       "      <td>2088.870117</td>\n",
       "      <td>2852940000</td>\n",
       "      <td>2088.870117</td>\n",
       "      <td>3</td>\n",
       "      <td>11</td>\n",
       "    </tr>\n",
       "    <tr>\n",
       "      <th>4</th>\n",
       "      <td>2015-11-27</td>\n",
       "      <td>2093.290039</td>\n",
       "      <td>2084.129883</td>\n",
       "      <td>2088.820068</td>\n",
       "      <td>2090.110107</td>\n",
       "      <td>1466840000</td>\n",
       "      <td>2090.110107</td>\n",
       "      <td>4</td>\n",
       "      <td>11</td>\n",
       "    </tr>\n",
       "    <tr>\n",
       "      <th>...</th>\n",
       "      <td>...</td>\n",
       "      <td>...</td>\n",
       "      <td>...</td>\n",
       "      <td>...</td>\n",
       "      <td>...</td>\n",
       "      <td>...</td>\n",
       "      <td>...</td>\n",
       "      <td>...</td>\n",
       "      <td>...</td>\n",
       "    </tr>\n",
       "    <tr>\n",
       "      <th>1820</th>\n",
       "      <td>2020-11-16</td>\n",
       "      <td>3628.510010</td>\n",
       "      <td>3600.159912</td>\n",
       "      <td>3600.159912</td>\n",
       "      <td>3626.909912</td>\n",
       "      <td>5281980000</td>\n",
       "      <td>3626.909912</td>\n",
       "      <td>0</td>\n",
       "      <td>11</td>\n",
       "    </tr>\n",
       "    <tr>\n",
       "      <th>1821</th>\n",
       "      <td>2020-11-17</td>\n",
       "      <td>3623.110107</td>\n",
       "      <td>3588.679932</td>\n",
       "      <td>3610.310059</td>\n",
       "      <td>3609.530029</td>\n",
       "      <td>4799570000</td>\n",
       "      <td>3609.530029</td>\n",
       "      <td>1</td>\n",
       "      <td>11</td>\n",
       "    </tr>\n",
       "    <tr>\n",
       "      <th>1822</th>\n",
       "      <td>2020-11-18</td>\n",
       "      <td>3619.090088</td>\n",
       "      <td>3567.330078</td>\n",
       "      <td>3612.090088</td>\n",
       "      <td>3567.790039</td>\n",
       "      <td>5274450000</td>\n",
       "      <td>3567.790039</td>\n",
       "      <td>2</td>\n",
       "      <td>11</td>\n",
       "    </tr>\n",
       "    <tr>\n",
       "      <th>1823</th>\n",
       "      <td>2020-11-19</td>\n",
       "      <td>3585.219971</td>\n",
       "      <td>3543.840088</td>\n",
       "      <td>3559.409912</td>\n",
       "      <td>3581.870117</td>\n",
       "      <td>4347200000</td>\n",
       "      <td>3581.870117</td>\n",
       "      <td>3</td>\n",
       "      <td>11</td>\n",
       "    </tr>\n",
       "    <tr>\n",
       "      <th>1824</th>\n",
       "      <td>2020-11-20</td>\n",
       "      <td>3581.229980</td>\n",
       "      <td>3556.850098</td>\n",
       "      <td>3579.310059</td>\n",
       "      <td>3557.540039</td>\n",
       "      <td>2236661930</td>\n",
       "      <td>3557.540039</td>\n",
       "      <td>4</td>\n",
       "      <td>11</td>\n",
       "    </tr>\n",
       "  </tbody>\n",
       "</table>\n",
       "<p>1825 rows × 9 columns</p>\n",
       "</div>"
      ],
      "text/plain": [
       "           Date         High          Low         Open        Close  \\\n",
       "0    2015-11-23  2095.610107  2081.389893  2089.409912  2086.590088   \n",
       "1    2015-11-24  2094.120117  2070.290039  2084.419922  2089.139893   \n",
       "2    2015-11-25  2093.000000  2086.300049  2089.300049  2088.870117   \n",
       "3    2015-11-26  2093.000000  2086.300049  2089.300049  2088.870117   \n",
       "4    2015-11-27  2093.290039  2084.129883  2088.820068  2090.110107   \n",
       "...         ...          ...          ...          ...          ...   \n",
       "1820 2020-11-16  3628.510010  3600.159912  3600.159912  3626.909912   \n",
       "1821 2020-11-17  3623.110107  3588.679932  3610.310059  3609.530029   \n",
       "1822 2020-11-18  3619.090088  3567.330078  3612.090088  3567.790039   \n",
       "1823 2020-11-19  3585.219971  3543.840088  3559.409912  3581.870117   \n",
       "1824 2020-11-20  3581.229980  3556.850098  3579.310059  3557.540039   \n",
       "\n",
       "          Volume    Adj Close  DayOfWeek  Month  \n",
       "0     3587980000  2086.590088          0     11  \n",
       "1     3884930000  2089.139893          1     11  \n",
       "2     2852940000  2088.870117          2     11  \n",
       "3     2852940000  2088.870117          3     11  \n",
       "4     1466840000  2090.110107          4     11  \n",
       "...          ...          ...        ...    ...  \n",
       "1820  5281980000  3626.909912          0     11  \n",
       "1821  4799570000  3609.530029          1     11  \n",
       "1822  5274450000  3567.790039          2     11  \n",
       "1823  4347200000  3581.870117          3     11  \n",
       "1824  2236661930  3557.540039          4     11  \n",
       "\n",
       "[1825 rows x 9 columns]"
      ]
     },
     "execution_count": 3,
     "metadata": {},
     "output_type": "execute_result"
    }
   ],
   "source": [
    "# Extracting features like day of the week, month, etc.\n",
    "yahoo_stock_data['DayOfWeek'] = yahoo_stock_data['Date'].dt.dayofweek\n",
    "yahoo_stock_data['Month'] = yahoo_stock_data['Date'].dt.month\n",
    "yahoo_stock_data"
   ]
  },
  {
   "cell_type": "markdown",
   "id": "50060b13-74cb-4803-ac20-1a6aa4238e54",
   "metadata": {},
   "source": [
    "3. Splitting the data"
   ]
  },
  {
   "cell_type": "code",
   "execution_count": 4,
   "id": "f8e8308d-92f6-4df8-b6bb-e053d544ea89",
   "metadata": {},
   "outputs": [],
   "source": [
    "# Split the data into training and testing sets\n",
    "train_data = yahoo_stock_data.iloc[:int(0.8*len(yahoo_stock_data))]\n",
    "test_data = yahoo_stock_data.iloc[int(0.8*len(yahoo_stock_data)):]"
   ]
  },
  {
   "cell_type": "markdown",
   "id": "4e128eff-b45b-449f-8b85-0edf53f9acf3",
   "metadata": {},
   "source": [
    "4. Model Training and Selection"
   ]
  },
  {
   "cell_type": "code",
   "execution_count": 11,
   "id": "fbb7dc13-0701-46a7-9ca8-eddad09ac854",
   "metadata": {},
   "outputs": [],
   "source": [
    "from statsmodels.tsa.arima.model import ARIMA\n",
    "\n",
    "# Fit the ARIMA model to the training data\n",
    "model = ARIMA(train_data['Close'], order=(5,1,0))\n",
    "model_fit = model.fit()"
   ]
  },
  {
   "cell_type": "markdown",
   "id": "a353770e-b305-4071-8141-b241be9cb8bb",
   "metadata": {},
   "source": [
    "5. Model Evaluation"
   ]
  },
  {
   "cell_type": "code",
   "execution_count": 6,
   "id": "d02f3bc7-b4fc-4e1b-9ff7-cd2243d51ddb",
   "metadata": {},
   "outputs": [
    {
     "name": "stdout",
     "output_type": "stream",
     "text": [
      "RMSE: 278.60489084527984\n"
     ]
    }
   ],
   "source": [
    "# Make predictions on the testing data\n",
    "predictions = model_fit.forecast(steps=len(test_data))\n",
    "\n",
    "# Calculate RMSE (Root Mean Squared Error)\n",
    "from sklearn.metrics import mean_squared_error\n",
    "\n",
    "rmse = np.sqrt(mean_squared_error(test_data['Close'], predictions))\n",
    "print(\"RMSE:\", rmse)\n"
   ]
  },
  {
   "cell_type": "markdown",
   "id": "65c7d6d9-f350-427a-a202-4a2c85c305a6",
   "metadata": {},
   "source": [
    "6. visualiztion"
   ]
  },
  {
   "cell_type": "code",
   "execution_count": 7,
   "id": "df528ef7-b27a-4957-b52a-a8f48e0cd7b5",
   "metadata": {},
   "outputs": [
    {
     "data": {
      "image/png": "[encoded data removed]",
      "text/plain": [
       "<Figure size 640x480 with 1 Axes>"
      ]
     },
     "metadata": {},
     "output_type": "display_data"
    }
   ],
   "source": [
    "plt.plot(test_data['Date'], test_data['Close'], label='Actual')\n",
    "plt.plot(test_data['Date'], predictions, label='Predicted')\n",
    "plt.xlabel('Date')\n",
    "plt.ylabel('Close Price')\n",
    "plt.title('Yahoo Stock Price Forecasting')\n",
    "plt.legend()\n",
    "\n",
    "# Add xticks for better readability\n",
    "plt.xticks(rotation=45)\n",
    "plt.gca().xaxis.set_major_locator(plt.MaxNLocator(6))\n",
    "plt.show()"
   ]
  },
  {
   "cell_type": "markdown",
   "id": "737109f4-30ce-4af4-ba88-ec6d171575e5",
   "metadata": {},
   "source": [
    "7. Forecasting"
   ]
  },
  {
   "cell_type": "code",
   "execution_count": 8,
   "id": "b1b032d4-9e18-4144-9631-333d89efe4af",
   "metadata": {},
   "outputs": [
    {
     "data": {
      "image/png": "[encoded data removed]",
      "text/plain": [
       "<Figure size 640x480 with 1 Axes>"
      ]
     },
     "metadata": {},
     "output_type": "display_data"
    }
   ],
   "source": [
    "# Forecast future values\n",
    "forecast_steps = 10\n",
    "future_dates = pd.date_range(start=yahoo_stock_data['Date'].iloc[-1], periods=forecast_steps + 1, freq='D')[1:]\n",
    "future_predictions = model_fit.forecast(steps=forecast_steps)\n",
    "\n",
    "# Visualize future predictions\n",
    "plt.plot(future_dates, future_predictions, label='Forecasted')\n",
    "plt.xlabel('Date')\n",
    "plt.ylabel('Close Price')\n",
    "plt.title('Future Yahoo Stock Price Forecasting')\n",
    "plt.legend()\n",
    "\n",
    "# Add xticks for better readability\n",
    "plt.xticks(rotation=45)\n",
    "plt.gca().xaxis.set_major_locator(plt.MaxNLocator(6))\n",
    "plt.show()"
   ]
  },
  {
   "cell_type": "markdown",
   "id": "3872c118-a67e-4a6f-b3ae-91df4f51fb73",
   "metadata": {},
   "source": [
    "8. Parameter Tuning"
   ]
  },
  {
   "cell_type": "code",
   "execution_count": 9,
   "id": "aa1d3fbc-d36b-4bd1-b832-6df55714e896",
   "metadata": {},
   "outputs": [
    {
     "name": "stderr",
     "output_type": "stream",
     "text": [
      "C:\\Users\\King\\anaconda3\\Lib\\site-packages\\statsmodels\\tsa\\statespace\\sarimax.py:966: UserWarning: Non-stationary starting autoregressive parameters found. Using zeros as starting parameters.\n",
      "  warn('Non-stationary starting autoregressive parameters'\n",
      "C:\\Users\\King\\anaconda3\\Lib\\site-packages\\statsmodels\\tsa\\statespace\\sarimax.py:978: UserWarning: Non-invertible starting MA parameters found. Using zeros as starting parameters.\n",
      "  warn('Non-invertible starting MA parameters found.'\n"
     ]
    },
    {
     "name": "stdout",
     "output_type": "stream",
     "text": [
      "Best Parameters: (1, 2, 2)\n",
      "Best RMSE: 260.1544946036035\n"
     ]
    }
   ],
   "source": [
    "import itertools\n",
    "\n",
    "# Define the range of hyperparameters to search\n",
    "p_values = range(0, 3)\n",
    "d_values = range(0, 3)\n",
    "q_values = range(0, 3)\n",
    "parameters = list(itertools.product(p_values, d_values, q_values))\n",
    "\n",
    "best_rmse = float('inf')\n",
    "best_params = None\n",
    "\n",
    "# Iterate over all combinations of hyperparameters\n",
    "for param in parameters:\n",
    "    try:\n",
    "        model = ARIMA(train_data['Close'], order=param)\n",
    "        model_fit = model.fit()\n",
    "\n",
    "        # Make predictions on the testing data\n",
    "        predictions = model_fit.forecast(steps=len(test_data))\n",
    "\n",
    "        # Calculate RMSE\n",
    "        rmse = np.sqrt(mean_squared_error(test_data['Close'], predictions))\n",
    "\n",
    "        # Update best parameters if RMSE is lower\n",
    "        if rmse < best_rmse:\n",
    "            best_rmse = rmse\n",
    "            best_params = param\n",
    "    except:\n",
    "        continue\n",
    "\n",
    "print(\"Best Parameters:\", best_params)\n",
    "print(\"Best RMSE:\", best_rmse)\n"
   ]
  },
  {
   "cell_type": "markdown",
   "id": "140e5214-17c1-41d1-ade3-2a95dac17602",
   "metadata": {},
   "source": [
    "9. Model Validation"
   ]
  },
  {
   "cell_type": "code",
   "execution_count": 10,
   "id": "83f209f7-c66e-4662-94c2-7a5de719ac2f",
   "metadata": {},
   "outputs": [
    {
     "name": "stdout",
     "output_type": "stream",
     "text": [
      "Validation RMSE: 155.27670582389743\n",
      "Testing RMSE: 488.6956696872334\n"
     ]
    }
   ],
   "source": [
    "# Split the data into training, validation, and testing sets\n",
    "train_data = yahoo_stock_data.iloc[:int(0.6*len(yahoo_stock_data))]\n",
    "val_data = yahoo_stock_data.iloc[int(0.6*len(yahoo_stock_data)):int(0.8*len(yahoo_stock_data))]\n",
    "test_data = yahoo_stock_data.iloc[int(0.8*len(yahoo_stock_data)):]\n",
    "\n",
    "# Fit the model to the training data with the best parameters\n",
    "model = ARIMA(train_data['Close'], order=best_params)\n",
    "model_fit = model.fit()\n",
    "\n",
    "# Make predictions on the validation data\n",
    "val_predictions = model_fit.forecast(steps=len(val_data))\n",
    "\n",
    "# Calculate RMSE on the validation data\n",
    "val_rmse = np.sqrt(mean_squared_error(val_data['Close'], val_predictions))\n",
    "print(\"Validation RMSE:\", val_rmse)\n",
    "\n",
    "# Make predictions on the testing data\n",
    "test_predictions = model_fit.forecast(steps=len(test_data))\n",
    "\n",
    "# Calculate RMSE on the testing data\n",
    "test_rmse = np.sqrt(mean_squared_error(test_data['Close'], test_predictions))\n",
    "print(\"Testing RMSE:\", test_rmse)\n"
   ]
  }
 ],
 "metadata": {
  "kernelspec": {
   "display_name": "Python 3 (ipykernel)",
   "language": "python",
   "name": "python3"
  },
  "language_info": {
   "codemirror_mode": {
    "name": "ipython",
    "version": 3
   },
   "file_extension": ".py",
   "mimetype": "text/x-python",
   "name": "python",
   "nbconvert_exporter": "python",
   "pygments_lexer": "ipython3",
   "version": "3.11.7"
  }
 },
 "nbformat": 4,
 "nbformat_minor": 5
}
